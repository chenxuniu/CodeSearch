{
 "cells": [
  {
   "cell_type": "code",
   "execution_count": 1,
   "id": "a28c917c-644c-4573-9c85-bd3dc36b4be3",
   "metadata": {
    "tags": []
   },
   "outputs": [],
   "source": [
    "#Example adapted from:\n",
    "#  https://developer.ibm.com/tutorials/awb-classifying-data-multinomial-naive-bayes-algorithm/\n",
    "#  https://github.com/ekavlako/think/blob/main/tutorials/naive-bayes/naive-bayes-tutorial.ipynb\n",
    "#Spam/Ham Data from:\n",
    "#  https://archive.ics.uci.edu/dataset/228/sms+spam+collection\n",
    "#To install UCI datasets using pip\n",
    "#  https://github.com/uci-ml-repo/ucimlrepo\n",
    "import numpy as np\n",
    "import matplotlib.pyplot as plt\n",
    "import pandas as pd\n",
    "import nltk\n",
    "import seaborn as sns\n",
    "import re\n",
    "import os, types"
   ]
  },
  {
   "cell_type": "code",
   "execution_count": 82,
   "id": "c70cf245-997e-4c4d-b76c-17557d018fb1",
   "metadata": {
    "tags": []
   },
   "outputs": [],
   "source": [
    "#https://scikit-learn.org/stable/modules/generated/sklearn.naive_bayes.MultinomialNB.html\n",
    "#https://scikit-learn.org/stable/modules/generated/sklearn.naive_bayes.BernoulliNB.html\n",
    "from sklearn.feature_extraction.text import CountVectorizer, TfidfVectorizer\n",
    "from sklearn.metrics import roc_auc_score, roc_curve, confusion_matrix, precision_score, recall_score, accuracy_score, balanced_accuracy_score, ConfusionMatrixDisplay\n",
    "from sklearn.model_selection import train_test_split\n",
    "from sklearn.naive_bayes import MultinomialNB\n",
    "from sklearn.utils.multiclass import unique_labels\n",
    "from sklearn.naive_bayes import BernoulliNB"
   ]
  },
  {
   "cell_type": "code",
   "execution_count": 3,
   "id": "29a44298-857f-490b-9387-12ca94f4577b",
   "metadata": {
    "tags": []
   },
   "outputs": [],
   "source": [
    "from nltk.stem import WordNetLemmatizer\n",
    "from nltk.stem import PorterStemmer\n",
    "from nltk.tokenize import word_tokenize\n",
    "from nltk.corpus import stopwords"
   ]
  },
  {
   "cell_type": "code",
   "execution_count": 4,
   "id": "de8a1e3c-9846-45e7-a53b-b02b910d45e0",
   "metadata": {
    "tags": []
   },
   "outputs": [
    {
     "data": {
      "text/html": [
       "<div>\n",
       "<style scoped>\n",
       "    .dataframe tbody tr th:only-of-type {\n",
       "        vertical-align: middle;\n",
       "    }\n",
       "\n",
       "    .dataframe tbody tr th {\n",
       "        vertical-align: top;\n",
       "    }\n",
       "\n",
       "    .dataframe thead th {\n",
       "        text-align: right;\n",
       "    }\n",
       "</style>\n",
       "<table border=\"1\" class=\"dataframe\">\n",
       "  <thead>\n",
       "    <tr style=\"text-align: right;\">\n",
       "      <th></th>\n",
       "      <th>classification</th>\n",
       "      <th>text</th>\n",
       "    </tr>\n",
       "  </thead>\n",
       "  <tbody>\n",
       "    <tr>\n",
       "      <th>0</th>\n",
       "      <td>ham</td>\n",
       "      <td>Go until jurong point, crazy.. Available only ...</td>\n",
       "    </tr>\n",
       "    <tr>\n",
       "      <th>1</th>\n",
       "      <td>ham</td>\n",
       "      <td>Ok lar... Joking wif u oni...</td>\n",
       "    </tr>\n",
       "    <tr>\n",
       "      <th>2</th>\n",
       "      <td>spam</td>\n",
       "      <td>Free entry in 2 a wkly comp to win FA Cup fina...</td>\n",
       "    </tr>\n",
       "    <tr>\n",
       "      <th>3</th>\n",
       "      <td>ham</td>\n",
       "      <td>U dun say so early hor... U c already then say...</td>\n",
       "    </tr>\n",
       "    <tr>\n",
       "      <th>4</th>\n",
       "      <td>ham</td>\n",
       "      <td>Nah I don't think he goes to usf, he lives aro...</td>\n",
       "    </tr>\n",
       "  </tbody>\n",
       "</table>\n",
       "</div>"
      ],
      "text/plain": [
       "  classification                                               text\n",
       "0            ham  Go until jurong point, crazy.. Available only ...\n",
       "1            ham                      Ok lar... Joking wif u oni...\n",
       "2           spam  Free entry in 2 a wkly comp to win FA Cup fina...\n",
       "3            ham  U dun say so early hor... U c already then say...\n",
       "4            ham  Nah I don't think he goes to usf, he lives aro..."
      ]
     },
     "execution_count": 4,
     "metadata": {},
     "output_type": "execute_result"
    }
   ],
   "source": [
    "#download the dataset from the UCI machine learning repository and put it into a data folder in the working directory\n",
    "data = pd.read_csv(\"./data/SMSSpamCollection\",delimiter='\\t',header=None,names=[\"classification\",\"text\"])\n",
    "data.head()"
   ]
  },
  {
   "cell_type": "code",
   "execution_count": 5,
   "id": "867fecc1-6197-43f4-8d17-6b5d35623862",
   "metadata": {
    "tags": []
   },
   "outputs": [
    {
     "data": {
      "text/plain": [
       "(5572, 2)"
      ]
     },
     "execution_count": 5,
     "metadata": {},
     "output_type": "execute_result"
    }
   ],
   "source": [
    "data.shape"
   ]
  },
  {
   "cell_type": "code",
   "execution_count": 6,
   "id": "ea76d2ee-b805-4f52-ab8c-ddbf07be96d6",
   "metadata": {
    "tags": []
   },
   "outputs": [
    {
     "data": {
      "text/html": [
       "<div>\n",
       "<style scoped>\n",
       "    .dataframe tbody tr th:only-of-type {\n",
       "        vertical-align: middle;\n",
       "    }\n",
       "\n",
       "    .dataframe tbody tr th {\n",
       "        vertical-align: top;\n",
       "    }\n",
       "\n",
       "    .dataframe thead th {\n",
       "        text-align: right;\n",
       "    }\n",
       "</style>\n",
       "<table border=\"1\" class=\"dataframe\">\n",
       "  <thead>\n",
       "    <tr style=\"text-align: right;\">\n",
       "      <th></th>\n",
       "      <th>classification</th>\n",
       "      <th>text</th>\n",
       "    </tr>\n",
       "  </thead>\n",
       "  <tbody>\n",
       "    <tr>\n",
       "      <th>5567</th>\n",
       "      <td>spam</td>\n",
       "      <td>This is the 2nd time we have tried 2 contact u...</td>\n",
       "    </tr>\n",
       "    <tr>\n",
       "      <th>5568</th>\n",
       "      <td>ham</td>\n",
       "      <td>Will ü b going to esplanade fr home?</td>\n",
       "    </tr>\n",
       "    <tr>\n",
       "      <th>5569</th>\n",
       "      <td>ham</td>\n",
       "      <td>Pity, * was in mood for that. So...any other s...</td>\n",
       "    </tr>\n",
       "    <tr>\n",
       "      <th>5570</th>\n",
       "      <td>ham</td>\n",
       "      <td>The guy did some bitching but I acted like i'd...</td>\n",
       "    </tr>\n",
       "    <tr>\n",
       "      <th>5571</th>\n",
       "      <td>ham</td>\n",
       "      <td>Rofl. Its true to its name</td>\n",
       "    </tr>\n",
       "  </tbody>\n",
       "</table>\n",
       "</div>"
      ],
      "text/plain": [
       "     classification                                               text\n",
       "5567           spam  This is the 2nd time we have tried 2 contact u...\n",
       "5568            ham               Will ü b going to esplanade fr home?\n",
       "5569            ham  Pity, * was in mood for that. So...any other s...\n",
       "5570            ham  The guy did some bitching but I acted like i'd...\n",
       "5571            ham                         Rofl. Its true to its name"
      ]
     },
     "execution_count": 6,
     "metadata": {},
     "output_type": "execute_result"
    }
   ],
   "source": [
    "data.tail()"
   ]
  },
  {
   "cell_type": "code",
   "execution_count": 7,
   "id": "5363e2b7-2c03-4a99-ba71-9d41e4d5b4b9",
   "metadata": {
    "tags": []
   },
   "outputs": [
    {
     "data": {
      "text/plain": [
       "0        ham\n",
       "1        ham\n",
       "2       spam\n",
       "3        ham\n",
       "4        ham\n",
       "        ... \n",
       "5567    spam\n",
       "5568     ham\n",
       "5569     ham\n",
       "5570     ham\n",
       "5571     ham\n",
       "Name: classification, Length: 5572, dtype: object"
      ]
     },
     "execution_count": 7,
     "metadata": {},
     "output_type": "execute_result"
    }
   ],
   "source": [
    "data[\"classification\"]"
   ]
  },
  {
   "cell_type": "code",
   "execution_count": 8,
   "id": "c2bd82e9-5078-41cc-8e64-5f0285ee2795",
   "metadata": {
    "tags": []
   },
   "outputs": [],
   "source": [
    "#recoding dataset \n",
    "data['target'] = np.where(data['classification']=='ham',0, 1)"
   ]
  },
  {
   "cell_type": "code",
   "execution_count": 9,
   "id": "ba315d61-5ba8-427a-8bb0-0c9afff4268a",
   "metadata": {
    "tags": []
   },
   "outputs": [],
   "source": [
    "#check for duplicate data\n",
    "data['duplicates'] = np.where(data['text'].duplicated(keep=False), 1, 0)"
   ]
  },
  {
   "cell_type": "code",
   "execution_count": 10,
   "id": "1ef097d0-2c42-469c-bc7c-745c8e9d61ab",
   "metadata": {
    "tags": []
   },
   "outputs": [
    {
     "name": "stdout",
     "output_type": "stream",
     "text": [
      "Top 5 common duplicate texts are:\n"
     ]
    },
    {
     "data": {
      "text/html": [
       "<div>\n",
       "<style scoped>\n",
       "    .dataframe tbody tr th:only-of-type {\n",
       "        vertical-align: middle;\n",
       "    }\n",
       "\n",
       "    .dataframe tbody tr th {\n",
       "        vertical-align: top;\n",
       "    }\n",
       "\n",
       "    .dataframe thead th {\n",
       "        text-align: right;\n",
       "    }\n",
       "</style>\n",
       "<table border=\"1\" class=\"dataframe\">\n",
       "  <thead>\n",
       "    <tr style=\"text-align: right;\">\n",
       "      <th></th>\n",
       "      <th>target</th>\n",
       "    </tr>\n",
       "    <tr>\n",
       "      <th>text</th>\n",
       "      <th></th>\n",
       "    </tr>\n",
       "  </thead>\n",
       "  <tbody>\n",
       "    <tr>\n",
       "      <th>Sorry, I'll call later</th>\n",
       "      <td>30</td>\n",
       "    </tr>\n",
       "    <tr>\n",
       "      <th>I cant pick the phone right now. Pls send a message</th>\n",
       "      <td>12</td>\n",
       "    </tr>\n",
       "    <tr>\n",
       "      <th>Ok...</th>\n",
       "      <td>10</td>\n",
       "    </tr>\n",
       "    <tr>\n",
       "      <th>Say this slowly.? GOD,I LOVE YOU &amp;amp; I NEED YOU,CLEAN MY HEART WITH YOUR BLOOD.Send this to Ten special people &amp;amp; u c miracle tomorrow, do it,pls,pls do it...</th>\n",
       "      <td>4</td>\n",
       "    </tr>\n",
       "    <tr>\n",
       "      <th>Wen ur lovable bcums angry wid u, dnt take it seriously.. Coz being angry is d most childish n true way of showing deep affection, care n luv!.. kettoda manda... Have nice day da.</th>\n",
       "      <td>4</td>\n",
       "    </tr>\n",
       "  </tbody>\n",
       "</table>\n",
       "</div>"
      ],
      "text/plain": [
       "                                                    target\n",
       "text                                                      \n",
       "Sorry, I'll call later                                  30\n",
       "I cant pick the phone right now. Pls send a mes...      12\n",
       "Ok...                                                   10\n",
       "Say this slowly.? GOD,I LOVE YOU &amp; I NEED Y...       4\n",
       "Wen ur lovable bcums angry wid u, dnt take it s...       4"
      ]
     },
     "execution_count": 10,
     "metadata": {},
     "output_type": "execute_result"
    }
   ],
   "source": [
    "print('Top 5 common duplicate texts are:')\n",
    "data[data.duplicates == 1].pivot_table(index='text', values='target', aggfunc='count').sort_values(by='target', ascending=False).head(5)"
   ]
  },
  {
   "cell_type": "code",
   "execution_count": 11,
   "id": "044ce3d5-fc54-4f4a-b29d-1280d7217f72",
   "metadata": {
    "tags": []
   },
   "outputs": [
    {
     "name": "stdout",
     "output_type": "stream",
     "text": [
      "Missing data in each column:\n",
      "classification    0\n",
      "text              0\n",
      "target            0\n",
      "duplicates        0\n",
      "dtype: int64\n"
     ]
    }
   ],
   "source": [
    "#check for missing data\n",
    "print(\"Missing data in each column:\\n\" + str(data.isnull().sum()))"
   ]
  },
  {
   "cell_type": "code",
   "execution_count": 12,
   "id": "df4d58a1-9c4c-4eec-aee3-89f689204fc1",
   "metadata": {
    "tags": []
   },
   "outputs": [
    {
     "data": {
      "text/plain": [
       "target\n",
       "0    4825\n",
       "1     747\n",
       "Name: count, dtype: int64"
      ]
     },
     "execution_count": 12,
     "metadata": {},
     "output_type": "execute_result"
    }
   ],
   "source": [
    "data['target'].value_counts()"
   ]
  },
  {
   "cell_type": "code",
   "execution_count": 13,
   "id": "d6b68a82-6c89-4035-af67-773e90a394ab",
   "metadata": {
    "tags": []
   },
   "outputs": [
    {
     "data": {
      "image/png": "[encoded data removed]",
      "text/plain": [
       "<Figure size 640x480 with 1 Axes>"
      ]
     },
     "metadata": {},
     "output_type": "display_data"
    }
   ],
   "source": [
    "# Explore distribution of dataset \n",
    "\n",
    "# count plot on single categorical variable\n",
    "ax = sns.countplot(x = data['classification'], palette = 'rocket',hue = data['classification'], legend=False)\n",
    "\n",
    "#add data labels\n",
    "ax.bar_label(ax.containers[0])\n",
    "ax.bar_label(ax.containers[1])\n",
    "\n",
    "# add plot title\n",
    "plt.title(\"Observations by Classification Type\")\n",
    "\n",
    "# show plot\n",
    "plt.show()"
   ]
  },
  {
   "cell_type": "code",
   "execution_count": 14,
   "id": "ccc51fdc-9b16-4532-8173-4e57bd8fd5cc",
   "metadata": {
    "tags": []
   },
   "outputs": [],
   "source": [
    "# Dropping all duplicate texts based off of results of EDA\n",
    "df_no_dup = data.drop_duplicates(subset=['text'], keep='first')"
   ]
  },
  {
   "cell_type": "code",
   "execution_count": 15,
   "id": "9258b23c-30b9-493e-bb56-0b28be1a2362",
   "metadata": {
    "tags": []
   },
   "outputs": [
    {
     "data": {
      "image/png": "[encoded data removed]",
      "text/plain": [
       "<Figure size 640x480 with 1 Axes>"
      ]
     },
     "metadata": {},
     "output_type": "display_data"
    }
   ],
   "source": [
    "# Explore distribution of dataset \n",
    "\n",
    "# count plot on single categorical variable\n",
    "ax = sns.countplot(x = df_no_dup['classification'], palette = 'rocket',hue = df_no_dup['classification'], legend=False)\n",
    "\n",
    "#add data labels\n",
    "ax.bar_label(ax.containers[0])\n",
    "ax.bar_label(ax.containers[1])\n",
    "\n",
    "# add plot title\n",
    "plt.title(\"Observations by Classification Type\")\n",
    "\n",
    "# show plot\n",
    "plt.show()"
   ]
  },
  {
   "cell_type": "code",
   "execution_count": 16,
   "id": "41a58228-9b7e-47f8-845e-83a13b358b5b",
   "metadata": {},
   "outputs": [
    {
     "name": "stdout",
     "output_type": "stream",
     "text": [
      "(3618,) (1551,)\n"
     ]
    }
   ],
   "source": [
    "#https://scikit-learn.org/stable/modules/generated/sklearn.model_selection.train_test_split.html\n",
    "\n",
    "X_train, X_test, Y_train, Y_test = train_test_split(df_no_dup['text'], \n",
    "                                                    df_no_dup['target'],\n",
    "                                                    test_size=0.3,\n",
    "                                                    random_state=0)\n",
    "print(X_train.shape,X_test.shape)"
   ]
  },
  {
   "cell_type": "code",
   "execution_count": 61,
   "id": "f4f5dd3a-b29b-4cef-ac85-f3af590d06bc",
   "metadata": {
    "tags": []
   },
   "outputs": [],
   "source": [
    "def text_clean(text, method, rm_stop):\n",
    "    text = re.sub(r\"\\n\",\"\",text)   #remove line breaks\n",
    "    text = text.lower() #convert to lowercase\n",
    "    #before running the following, remove hyperlinks, etc., as removing the digits can affect being able to find currency terms and hyperlinks\n",
    "    text = re.sub(r\"\\d+\",\"\",text)   #remove numbers with one or more digits\n",
    "    text = re.sub(r'[^\\x00-\\x7f]',r' ',text)   #remove non-ascii (everything without a code from x00 to x7f)\n",
    "    text = re.sub(r'[^\\w\\s]','',text)   #remove punctuation (everything not a word or space)\n",
    "    text = re.sub(r'https', '', text)   #remove hyperlinks\n",
    "    \n",
    "    #remove stop words \n",
    "    if rm_stop == True:\n",
    "        filtered_tokens = [word for word in word_tokenize(text) if not word in set(stopwords.words('english'))]\n",
    "        text = \" \".join(filtered_tokens)\n",
    "        \n",
    "    #lemmatization: typically preferred over stemming\n",
    "    if method == 'L':\n",
    "        lemmer = WordNetLemmatizer()\n",
    "        lemm_tokens = [lemmer.lemmatize(word) for word in word_tokenize(text)]\n",
    "        return \" \".join(lemm_tokens)\n",
    "    \n",
    "    #stemming \n",
    "    if method == 'S':\n",
    "        porter = PorterStemmer()\n",
    "        stem_tokens = [porter.stem(word) for word in word_tokenize(text)]\n",
    "        return \" \".join(stem_tokens)\n",
    "    \n",
    "    return text"
   ]
  },
  {
   "cell_type": "code",
   "execution_count": 62,
   "id": "644e75ec-d8ef-4587-aa72-55542354b178",
   "metadata": {
    "tags": []
   },
   "outputs": [],
   "source": [
    "#preprocessed data: Lemm + stopword removal \n",
    "preprocessed_text_1 = [text_clean(text, 'L', True) for text in X_train]\n",
    "#preprocessed_text_1[0:10]\n",
    "\n",
    "#preprocessed data: Lemm + no stopword removal \n",
    "preprocessed_text_2 = [text_clean(text, 'L', False) for text in X_train]\n",
    "#preprocessed_text_2[0:10]\n",
    "\n",
    "#preprocessed data: Stem + stopword removal \n",
    "preprocessed_text_3 = [text_clean(text, 'S', True) for text in X_train]\n",
    "#preprocessed_text_3[0:10]\n",
    "\n",
    "#preprocessed data: Stem + no stopword removal \n",
    "preprocessed_text_4 = [text_clean(text, 'S', False) for text in X_train]\n",
    "#preprocessed_text_4[0:10]"
   ]
  },
  {
   "cell_type": "code",
   "execution_count": 80,
   "id": "55127b02-c29d-4e16-a96b-c8b868690658",
   "metadata": {
    "tags": []
   },
   "outputs": [],
   "source": [
    "def transform_model_data_w_count_vectorizer(preprocessed_text, Y_train,  X_test, Y_test, model_type):\n",
    "    #vectorize dataset \n",
    "    vectorizer = CountVectorizer()\n",
    "    vectorized_data = vectorizer.fit_transform(preprocessed_text)\n",
    "\n",
    "    #define model\n",
    "    if model_type == 0:\n",
    "        model = MultinomialNB(alpha=0.1)\n",
    "    else:\n",
    "        model = BernoulliNB(alpha=0.1)\n",
    "\n",
    "    model.fit(vectorized_data, Y_train)\n",
    "\n",
    "    #evaluate model\n",
    "    predictions = model.predict(vectorizer.transform(X_test))\n",
    "    accuracy = accuracy_score( Y_test, predictions)\n",
    "    balanced_accuracy = balanced_accuracy_score(Y_test, predictions)\n",
    "    precision = precision_score(Y_test, predictions)\n",
    "\n",
    "    print(\"Accuracy:\",round(100*accuracy,2),'%')\n",
    "    print(\"Balanced accuracy:\",round(100*balanced_accuracy,2),'%')\n",
    "    print(\"Precision:\", round(100*precision,2),'%')\n",
    "    return predictions, model"
   ]
  },
  {
   "cell_type": "code",
   "execution_count": 81,
   "id": "5dc2fa36-cbcb-48c6-a383-75ed23aac159",
   "metadata": {
    "tags": []
   },
   "outputs": [],
   "source": [
    "def transform_model_data_w_tfidf_vectorizer(preprocessed_text, Y_train,  X_test, Y_test, model_type):\n",
    "    #vectorize dataset \n",
    "    tfidf = TfidfVectorizer() \n",
    "    vectorized_data = tfidf.fit_transform(preprocessed_text)\n",
    "\n",
    "    #define model\n",
    "    if model_type == 0:\n",
    "        model = MultinomialNB(alpha=0.1)\n",
    "    else:\n",
    "        model = BernoulliNB(alpha=0.1)\n",
    "\n",
    "    model.fit(vectorized_data, Y_train)\n",
    " \n",
    "    #evaluate model\n",
    "    predictions = model.predict(tfidf.transform(X_test))\n",
    "\n",
    "    accuracy = accuracy_score( Y_test, predictions)\n",
    "    balanced_accuracy = balanced_accuracy_score(Y_test, predictions)\n",
    "    precision = precision_score(Y_test, predictions)\n",
    "\n",
    "    print(\"Accuracy:\",round(100*accuracy,2),'%')\n",
    "    print(\"Balanced accuracy:\",round(100*balanced_accuracy,2),'%')\n",
    "    print(\"Precision:\", round(100*precision,2),'%')\n",
    "    return predictions, model"
   ]
  },
  {
   "cell_type": "code",
   "execution_count": 83,
   "id": "cd61c880-236b-48d8-9767-75d1453e46b9",
   "metadata": {
    "tags": []
   },
   "outputs": [
    {
     "name": "stdout",
     "output_type": "stream",
     "text": [
      "Lemm + stopword removal + CountVectorizer\n",
      "Accuracy: 97.55 %\n",
      "Balanced accuracy: 94.57 %\n",
      "Precision: 90.55 %\n",
      "\n",
      "Lemm + no stopword removal + CountVectorizer\n",
      "Accuracy: 97.42 %\n",
      "Balanced accuracy: 93.86 %\n",
      "Precision: 90.86 %\n",
      "\n",
      "Stem + stopword removal + CountVectorizer\n",
      "Accuracy: 96.91 %\n",
      "Balanced accuracy: 90.6 %\n",
      "Precision: 93.22 %\n",
      "\n",
      "Stem + no stopword removal + CountVectorizer\n",
      "Accuracy: 97.29 %\n",
      "Balanced accuracy: 91.88 %\n",
      "Precision: 93.92 %\n"
     ]
    },
    {
     "data": {
      "text/plain": [
       "(array([0, 0, 0, ..., 0, 0, 0]), MultinomialNB(alpha=0.1))"
      ]
     },
     "execution_count": 83,
     "metadata": {},
     "output_type": "execute_result"
    }
   ],
   "source": [
    "#vectorize, model, and evaluate model using CountVectorizer and MultinomialNB\n",
    "\n",
    "#Lemm + stopword removal \n",
    "print(\"Lemm + stopword removal + CountVectorizer\") \n",
    "transform_model_data_w_count_vectorizer(preprocessed_text_1, Y_train,  X_test, Y_test, 0)\n",
    "\n",
    "#Lemm + no stopword removal \n",
    "print(\"\\nLemm + no stopword removal + CountVectorizer\") \n",
    "transform_model_data_w_count_vectorizer(preprocessed_text_2, Y_train,  X_test, Y_test, 0)\n",
    "\n",
    "#Stem + stopword removal \n",
    "print(\"\\nStem + stopword removal + CountVectorizer\") \n",
    "transform_model_data_w_count_vectorizer(preprocessed_text_3, Y_train,  X_test, Y_test, 0)\n",
    "\n",
    "#Stem + no stopword removal \n",
    "print(\"\\nStem + no stopword removal + CountVectorizer\") \n",
    "transform_model_data_w_count_vectorizer(preprocessed_text_4, Y_train,  X_test, Y_test, 0)"
   ]
  },
  {
   "cell_type": "code",
   "execution_count": 89,
   "id": "be2ce327-b30a-41b8-975e-243a543c861e",
   "metadata": {
    "tags": []
   },
   "outputs": [
    {
     "name": "stdout",
     "output_type": "stream",
     "text": [
      "Lemm + stopword removal + TfidfVectorizer\n",
      "Accuracy: 97.36 %\n",
      "Balanced accuracy: 91.92 %\n",
      "Precision: 94.44 %\n",
      "\n",
      "Lemm + no stopword removal + TfidfVectorizer\n",
      "Accuracy: 97.61 %\n",
      "Balanced accuracy: 92.07 %\n",
      "Precision: 96.59 %\n",
      "\n",
      "Stem + stopword removal + TfidfVectorizer\n",
      "Accuracy: 96.07 %\n",
      "Balanced accuracy: 85.46 %\n",
      "Precision: 97.95 %\n",
      "\n",
      "Stem + no stopword removal + TfidfVectorizer\n",
      "Accuracy: 96.45 %\n",
      "Balanced accuracy: 86.53 %\n",
      "Precision: 99.32 %\n"
     ]
    },
    {
     "data": {
      "text/plain": [
       "(array([0, 0, 0, ..., 0, 0, 0]), MultinomialNB(alpha=0.1))"
      ]
     },
     "execution_count": 89,
     "metadata": {},
     "output_type": "execute_result"
    }
   ],
   "source": [
    "#vectorize, model, and evaluate model using TfidfVectorizer and MultinomialNB\n",
    "\n",
    "#Lemm + stopword removal \n",
    "print(\"Lemm + stopword removal + TfidfVectorizer\") \n",
    "transform_model_data_w_tfidf_vectorizer(preprocessed_text_1, Y_train,  X_test, Y_test, 0)\n",
    "\n",
    "#Lemm + no stopword removal \n",
    "print(\"\\nLemm + no stopword removal + TfidfVectorizer\") \n",
    "transform_model_data_w_tfidf_vectorizer(preprocessed_text_2, Y_train,  X_test, Y_test, 0)\n",
    "\n",
    "#Stem + stopword removal \n",
    "print(\"\\nStem + stopword removal + TfidfVectorizer\") \n",
    "transform_model_data_w_tfidf_vectorizer(preprocessed_text_3, Y_train,  X_test, Y_test, 0)\n",
    "\n",
    "#Stem + no stopword removal \n",
    "print(\"\\nStem + no stopword removal + TfidfVectorizer\") \n",
    "transform_model_data_w_tfidf_vectorizer(preprocessed_text_4, Y_train,  X_test, Y_test, 0)"
   ]
  },
  {
   "cell_type": "code",
   "execution_count": 88,
   "id": "bd2da352-089e-4718-ac2b-3ee92aea6a70",
   "metadata": {
    "tags": []
   },
   "outputs": [
    {
     "name": "stdout",
     "output_type": "stream",
     "text": [
      "Accuracy: 96.45 %\n",
      "Balanced accuracy: 86.53 %\n",
      "Precision: 99.32 %\n"
     ]
    },
    {
     "data": {
      "image/png": "[encoded data removed]",
      "text/plain": [
       "<Figure size 640x480 with 2 Axes>"
      ]
     },
     "metadata": {},
     "output_type": "display_data"
    }
   ],
   "source": [
    "predictions, model = transform_model_data_w_tfidf_vectorizer(preprocessed_text_4, Y_train,  X_test, Y_test, 0)\n",
    "#compute the confusion matrix.\n",
    "cm = confusion_matrix(Y_test, predictions)\n",
    "\n",
    " #Plot the confusion matrix.\n",
    "disp = ConfusionMatrixDisplay(confusion_matrix=cm, display_labels=model.classes_)\n",
    "disp.plot()\n",
    "plt.show()"
   ]
  },
  {
   "cell_type": "code",
   "execution_count": 85,
   "id": "7b3308ad-1661-4dfe-a133-e90b029f53ff",
   "metadata": {
    "tags": []
   },
   "outputs": [
    {
     "name": "stdout",
     "output_type": "stream",
     "text": [
      "Lemm + stopword removal + CountVectorizer\n",
      "Accuracy: 98.19 %\n",
      "Balanced accuracy: 93.46 %\n",
      "Precision: 98.87 %\n",
      "\n",
      "Lemm + no stopword removal + CountVectorizer\n",
      "Accuracy: 98.19 %\n",
      "Balanced accuracy: 93.46 %\n",
      "Precision: 98.87 %\n",
      "\n",
      "Stem + stopword removal + CountVectorizer\n",
      "Accuracy: 96.32 %\n",
      "Balanced accuracy: 85.82 %\n",
      "Precision: 100.0 %\n",
      "\n",
      "Stem + no stopword removal + CountVectorizer\n",
      "Accuracy: 97.55 %\n",
      "Balanced accuracy: 90.55 %\n",
      "Precision: 100.0 %\n"
     ]
    },
    {
     "data": {
      "text/plain": [
       "(array([0, 0, 0, ..., 0, 0, 0]), BernoulliNB(alpha=0.1))"
      ]
     },
     "execution_count": 85,
     "metadata": {},
     "output_type": "execute_result"
    }
   ],
   "source": [
    "#vectorize, model, and evaluate model using CountVectorizer and BernoulliNB\n",
    "\n",
    "#Lemm + stopword removal \n",
    "print(\"Lemm + stopword removal + CountVectorizer\") \n",
    "transform_model_data_w_count_vectorizer(preprocessed_text_1, Y_train,  X_test, Y_test, 1)\n",
    "\n",
    "#Lemm + no stopword removal \n",
    "print(\"\\nLemm + no stopword removal + CountVectorizer\") \n",
    "transform_model_data_w_count_vectorizer(preprocessed_text_2, Y_train,  X_test, Y_test, 1)\n",
    "\n",
    "#Stem + stopword removal \n",
    "print(\"\\nStem + stopword removal + CountVectorizer\") \n",
    "transform_model_data_w_count_vectorizer(preprocessed_text_3, Y_train,  X_test, Y_test, 1)\n",
    "\n",
    "#Stem + no stopword removal \n",
    "print(\"\\nStem + no stopword removal + CountVectorizer\") \n",
    "transform_model_data_w_count_vectorizer(preprocessed_text_4, Y_train,  X_test, Y_test, 1)"
   ]
  },
  {
   "cell_type": "code",
   "execution_count": 86,
   "id": "22015d66-78c4-4f82-aa84-76f5f375ee5a",
   "metadata": {
    "tags": []
   },
   "outputs": [
    {
     "name": "stdout",
     "output_type": "stream",
     "text": [
      "Lemm + stopword removal + TfidfVectorizer\n",
      "Accuracy: 98.19 %\n",
      "Balanced accuracy: 93.46 %\n",
      "Precision: 98.87 %\n",
      "\n",
      "Lemm + no stopword removal + TfidfVectorizer\n",
      "Accuracy: 98.19 %\n",
      "Balanced accuracy: 93.46 %\n",
      "Precision: 98.87 %\n",
      "\n",
      "Stem + stopword removal + TfidfVectorizer\n",
      "Accuracy: 96.32 %\n",
      "Balanced accuracy: 85.82 %\n",
      "Precision: 100.0 %\n",
      "\n",
      "Stem + no stopword removal + TfidfVectorizer\n",
      "Accuracy: 97.55 %\n",
      "Balanced accuracy: 90.55 %\n",
      "Precision: 100.0 %\n"
     ]
    },
    {
     "data": {
      "text/plain": [
       "(array([0, 0, 0, ..., 0, 0, 0]), BernoulliNB(alpha=0.1))"
      ]
     },
     "execution_count": 86,
     "metadata": {},
     "output_type": "execute_result"
    }
   ],
   "source": [
    "#vectorize, model, and evaluate model using TfidfVectorizer and BernoulliNB\n",
    "\n",
    "#Lemm + stopword removal \n",
    "print(\"Lemm + stopword removal + TfidfVectorizer\") \n",
    "transform_model_data_w_tfidf_vectorizer(preprocessed_text_1, Y_train,  X_test, Y_test, 1)\n",
    "\n",
    "#Lemm + no stopword removal \n",
    "print(\"\\nLemm + no stopword removal + TfidfVectorizer\") \n",
    "transform_model_data_w_tfidf_vectorizer(preprocessed_text_2, Y_train,  X_test, Y_test, 1)\n",
    "\n",
    "#Stem + stopword removal \n",
    "print(\"\\nStem + stopword removal + TfidfVectorizer\") \n",
    "transform_model_data_w_tfidf_vectorizer(preprocessed_text_3, Y_train,  X_test, Y_test, 1)\n",
    "\n",
    "#Stem + no stopword removal \n",
    "print(\"\\nStem + no stopword removal + TfidfVectorizer\") \n",
    "transform_model_data_w_tfidf_vectorizer(preprocessed_text_4, Y_train,  X_test, Y_test, 1)"
   ]
  },
  {
   "cell_type": "code",
   "execution_count": 87,
   "id": "43bc956e-4f81-43d7-8741-42fef9620c16",
   "metadata": {
    "tags": []
   },
   "outputs": [
    {
     "name": "stdout",
     "output_type": "stream",
     "text": [
      "Accuracy: 97.55 %\n",
      "Balanced accuracy: 90.55 %\n",
      "Precision: 100.0 %\n"
     ]
    },
    {
     "data": {
      "image/png": "[encoded data removed]",
      "text/plain": [
       "<Figure size 640x480 with 2 Axes>"
      ]
     },
     "metadata": {},
     "output_type": "display_data"
    }
   ],
   "source": [
    "predictions, model = transform_model_data_w_tfidf_vectorizer(preprocessed_text_4, Y_train,  X_test, Y_test, 1)\n",
    "#compute the confusion matrix.\n",
    "cm = confusion_matrix(Y_test, predictions)\n",
    "\n",
    " #Plot the confusion matrix.\n",
    "disp = ConfusionMatrixDisplay(confusion_matrix=cm, display_labels=model.classes_)\n",
    "disp.plot()\n",
    "plt.show()"
   ]
  },
  {
   "cell_type": "code",
   "execution_count": null,
   "id": "452ea5ab-8613-41e8-b9a6-65dc57c4545d",
   "metadata": {},
   "outputs": [],
   "source": []
  }
 ],
 "metadata": {
  "kernelspec": {
   "display_name": "Python 3 (ipykernel)",
   "language": "python",
   "name": "python3"
  },
  "language_info": {
   "codemirror_mode": {
    "name": "ipython",
    "version": 3
   },
   "file_extension": ".py",
   "mimetype": "text/x-python",
   "name": "python",
   "nbconvert_exporter": "python",
   "pygments_lexer": "ipython3",
   "version": "3.9.17"
  }
 },
 "nbformat": 4,
 "nbformat_minor": 5
}
